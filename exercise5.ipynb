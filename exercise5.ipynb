{
  "cells": [
    {
      "cell_type": "markdown",
      "metadata": {
        "id": "view-in-github",
        "colab_type": "text"
      },
      "source": [
        "<a href=\"https://colab.research.google.com/github/ysc4/CCALCOMP_EXERCISES_COM223/blob/main/exercise5.ipynb\" target=\"_parent\"><img src=\"https://colab.research.google.com/assets/colab-badge.svg\" alt=\"Open In Colab\"/></a>"
      ]
    },
    {
      "cell_type": "markdown",
      "metadata": {
        "id": "-8bYOEC8HOQ4"
      },
      "source": [
        "# Exercise 5\n",
        "\n",
        "Please follow the instructions in each number."
      ]
    },
    {
      "cell_type": "markdown",
      "metadata": {
        "id": "FEPXLUAPHOQ6"
      },
      "source": [
        "### Maximum Subarray\n",
        "Given an array of integers nums, find the subarray with the largest sum and return the sum.\n",
        "\n",
        "A subarray is a contiguous non-empty sequence of elements within an array.\n",
        "\n",
        "\n",
        "\n",
        "Example 1:\n",
        "\n",
        "Input: nums = [2,-3,4,-2,2,1,-1,4]\n",
        "\n",
        "Output: 8\n",
        "\n",
        "Explanation: The subarray [4,-2,2,1,-1,4] has the largest sum 8."
      ]
    },
    {
      "cell_type": "markdown",
      "metadata": {
        "id": "D4a-4yS4HOQ7"
      },
      "source": [
        "## Tasks"
      ]
    },
    {
      "cell_type": "markdown",
      "metadata": {
        "id": "v8mlE6kYHOQ7"
      },
      "source": [
        "1. Put your student number in a list and manually compute the maximum subarray in your student number (`10 points`)"
      ]
    },
    {
      "cell_type": "code",
      "execution_count": 16,
      "metadata": {
        "vscode": {
          "languageId": "plaintext"
        },
        "id": "YJMIVpuTHOQ8",
        "colab": {
          "base_uri": "https://localhost:8080/"
        },
        "outputId": "8a928c75-b25e-4c58-d879-18a7b8d66863"
      },
      "outputs": [
        {
          "output_type": "stream",
          "name": "stdout",
          "text": [
            "Subarray of Student No. :  [2, 0, 2, 2, -1, 0, 1, 5, 2, 5]\n",
            "Maximum Sum of Subarray:  18\n"
          ]
        }
      ],
      "source": [
        "# put your answer here\n",
        "\n",
        "student_no = [2, 0, 2, 2, -1, 0, 1, 5, 2, 5]\n",
        "\n",
        "sub_array = [2, 0, 2, 2, -1, 0, 1, 5, 2, 5]\n",
        "sum_of_sub_array = 2 + 0 + 2 + 2 + -1 + 0 + 1 + 5 + 2 + 5\n",
        "\n",
        "print(\"Subarray of Student No. : \", sub_array)\n",
        "print(\"Maximum Sum of Subarray: \", sum_of_sub_array)"
      ]
    },
    {
      "cell_type": "markdown",
      "metadata": {
        "id": "nchQgI2KHOQ8"
      },
      "source": [
        "2. Write a program using a brute-force approach to get the maximum-subarray of your student number (`40 points`)"
      ]
    },
    {
      "cell_type": "code",
      "execution_count": 14,
      "metadata": {
        "vscode": {
          "languageId": "plaintext"
        },
        "id": "b9P6oe11HOQ9",
        "colab": {
          "base_uri": "https://localhost:8080/"
        },
        "outputId": "9e2b2dfd-9c4b-4633-bce9-5be71508e9f2"
      },
      "outputs": [
        {
          "output_type": "stream",
          "name": "stdout",
          "text": [
            "Maximum Sum of Sub Array (using brute-force approach):  18\n"
          ]
        }
      ],
      "source": [
        "# put your answer here\n",
        "\n",
        "def maxSubArray(num):\n",
        "  max_sum = 0\n",
        "\n",
        "  for i in range (len(num)):\n",
        "    for j in range (i, len(num)):\n",
        "      sum = 0\n",
        "      for k in range (i, j + 1):\n",
        "        sum += num[k]\n",
        "      if sum > max_sum:\n",
        "        max_sum = sum\n",
        "\n",
        "  return max_sum\n",
        "\n",
        "student_no = [2, 0, 2, 2, -1, 0, 1, 5, 2, 5]\n",
        "print(\"Maximum Sum of Sub Array (using brute-force approach): \", maxSubArray(student_no))"
      ]
    },
    {
      "cell_type": "markdown",
      "metadata": {
        "id": "NkqAxIx_HOQ9"
      },
      "source": [
        "3. Write a program using a dynamic programming to get the maximum-subarray of your student number (`50 points`)"
      ]
    },
    {
      "cell_type": "code",
      "execution_count": 17,
      "metadata": {
        "vscode": {
          "languageId": "plaintext"
        },
        "id": "BFBp2ARLHOQ9",
        "colab": {
          "base_uri": "https://localhost:8080/"
        },
        "outputId": "9aacfa72-3b28-4fb8-dd99-061c889b5783"
      },
      "outputs": [
        {
          "output_type": "stream",
          "name": "stdout",
          "text": [
            "Maximum Sum of Sub Array (using dynamic programming):  18\n"
          ]
        }
      ],
      "source": [
        "# put your answer here\n",
        "\n",
        "def maxSubArray(num):\n",
        "  if not num:\n",
        "    return 0\n",
        "\n",
        "  max_sum = num[0]\n",
        "  curr_max_sum = num[0]\n",
        "\n",
        "  for i in range (1, len(num)):\n",
        "    curr_max_sum = max(curr_max_sum + num[i], num[i])\n",
        "    max_sum = max(max_sum, curr_max_sum)\n",
        "\n",
        "  return max_sum\n",
        "\n",
        "student_no = [2, 0, 2, 2, -1, 0, 1, 5, 2, 5]\n",
        "print(\"Maximum Sum of Sub Array (using dynamic programming): \", maxSubArray(student_no))"
      ]
    }
  ],
  "metadata": {
    "colab": {
      "provenance": [],
      "include_colab_link": true
    },
    "kernelspec": {
      "display_name": "base",
      "language": "python",
      "name": "python3"
    },
    "language_info": {
      "codemirror_mode": {
        "name": "ipython",
        "version": 3
      },
      "file_extension": ".py",
      "mimetype": "text/x-python",
      "name": "python",
      "nbconvert_exporter": "python",
      "pygments_lexer": "ipython3",
      "version": "3.9.6"
    }
  },
  "nbformat": 4,
  "nbformat_minor": 0
}