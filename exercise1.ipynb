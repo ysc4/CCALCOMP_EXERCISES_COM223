{
  "cells": [
    {
      "cell_type": "markdown",
      "metadata": {
        "id": "view-in-github",
        "colab_type": "text"
      },
      "source": [
        "<a href=\"https://colab.research.google.com/github/ysc4/CCALCOMP_EXERCISES_COM223/blob/main/exercise1.ipynb\" target=\"_parent\"><img src=\"https://colab.research.google.com/assets/colab-badge.svg\" alt=\"Open In Colab\"/></a>"
      ]
    },
    {
      "cell_type": "markdown",
      "metadata": {
        "id": "3-prKGbfwFRd"
      },
      "source": [
        "# Exercise 1"
      ]
    },
    {
      "cell_type": "markdown",
      "metadata": {
        "id": "kBW-_z9HwFRf"
      },
      "source": [
        "Please follow the instructions in each number. Do not remove or modify the pre-defined code!"
      ]
    },
    {
      "cell_type": "code",
      "execution_count": 62,
      "metadata": {
        "id": "ABAdD_ngwFRg"
      },
      "outputs": [],
      "source": [
        "# Add a vertex to the set of vertices and the graph\n",
        "def add_vertex(v):\n",
        "  global graph\n",
        "  global vertices_no\n",
        "  global vertices\n",
        "  if v in vertices:\n",
        "    print(\"Vertex \", v, \" already exists\")\n",
        "  else:\n",
        "    vertices_no = vertices_no + 1\n",
        "    vertices.append(v)\n",
        "    if vertices_no > 1:\n",
        "        for vertex in graph:\n",
        "            vertex.append(0)\n",
        "    temp = []\n",
        "    for i in range(vertices_no):\n",
        "        temp.append(0)\n",
        "    graph.append(temp)\n",
        "\n",
        "# Add an edge between vertex v1 and v2 with edge weight e\n",
        "def add_edge(v1, v2, e):\n",
        "    global graph\n",
        "    global vertices_no\n",
        "    global vertices\n",
        "    # Check if vertex v1 is a valid vertex\n",
        "    if v1 not in vertices:\n",
        "        print(\"Vertex \", v1, \" does not exist.\")\n",
        "    # Check if vertex v1 is a valid vertex\n",
        "    elif v2 not in vertices:\n",
        "        print(\"Vertex \", v2, \" does not exist.\")\n",
        "    # Since this code is not restricted to a directed or\n",
        "    # an undirected graph, an edge between v1 v2 does not\n",
        "    # imply that an edge exists between v2 and v1\n",
        "    else:\n",
        "        index1 = vertices.index(v1)\n",
        "        index2 = vertices.index(v2)\n",
        "        graph[index1][index2] = e\n",
        "\n",
        "# Print the graph\n",
        "def print_graph():\n",
        "  global graph\n",
        "  global vertices_no\n",
        "  for i in range(vertices_no):\n",
        "    for j in range(vertices_no):\n",
        "      if graph[i][j] != 0:\n",
        "        print(vertices[i], \" -> \", vertices[j],\n",
        "              \" edge weight: \", graph[i][j])"
      ]
    },
    {
      "cell_type": "code",
      "execution_count": 63,
      "metadata": {
        "id": "912w9tR0wFRh"
      },
      "outputs": [],
      "source": [
        "# stores the vertices in the graph\n",
        "vertices = []\n",
        "# stores the number of vertices in the graph\n",
        "vertices_no = 0\n",
        "graph = []"
      ]
    },
    {
      "cell_type": "markdown",
      "metadata": {
        "id": "lzkib3wYwFRh"
      },
      "source": [
        "<img src=\"https://github.com/robitussin/CCALCOMP_EXERCISES/blob/main/images/directed%20graph2.png?raw=true\"/>"
      ]
    },
    {
      "cell_type": "markdown",
      "metadata": {
        "id": "Qfh-2gbPwFRi"
      },
      "source": [
        "1. Print the edges and vertices of the graph in set representation. (`25 points`)"
      ]
    },
    {
      "cell_type": "code",
      "execution_count": 64,
      "metadata": {
        "id": "FSymqoxmwFRi",
        "colab": {
          "base_uri": "https://localhost:8080/"
        },
        "outputId": "e6d36ddf-8384-4876-de83-45fe5302b69c"
      },
      "outputs": [
        {
          "output_type": "stream",
          "name": "stdout",
          "text": [
            "Vertices:  {'D', 'B', 'E', 'A', 'C'}\n",
            "Edges:  {('E', 'A'), ('A', 'C'), ('A', 'D'), ('C', 'D'), ('C', 'B'), ('B', 'A')}\n"
          ]
        }
      ],
      "source": [
        "# put your answer here\n",
        "\n",
        "V = {'A', 'B', 'C', 'D', 'E'}\n",
        "E = {('A', 'C'), ('A', 'D'), ('B', 'A'), ('C', 'B'), ('C', 'D'), ('E', 'A')}\n",
        "\n",
        "print(\"Vertices: \", V)\n",
        "print(\"Edges: \", E)"
      ]
    },
    {
      "cell_type": "markdown",
      "metadata": {
        "id": "NHt6QEFzwFRi"
      },
      "source": [
        "2. Implement the weighted graph in python code. Use the print_graph() function. (`25 points`)"
      ]
    },
    {
      "cell_type": "code",
      "execution_count": 65,
      "metadata": {
        "id": "fcYP9VF9wFRj",
        "colab": {
          "base_uri": "https://localhost:8080/"
        },
        "outputId": "61aca306-2e75-4d04-b8cf-7452372aa10d"
      },
      "outputs": [
        {
          "output_type": "stream",
          "name": "stdout",
          "text": [
            "0  ->  2  edge weight:  12\n",
            "0  ->  3  edge weight:  60\n",
            "1  ->  0  edge weight:  10\n",
            "2  ->  1  edge weight:  20\n",
            "2  ->  3  edge weight:  32\n",
            "4  ->  0  edge weight:  7\n"
          ]
        }
      ],
      "source": [
        "# put your answer here\n",
        "\n",
        "add_vertex(0)\n",
        "add_vertex(1)\n",
        "add_vertex(2)\n",
        "add_vertex(3)\n",
        "add_vertex(4)\n",
        "\n",
        "add_edge (0, 2, 12)\n",
        "add_edge (0, 3, 60)\n",
        "add_edge (4, 0, 7)\n",
        "add_edge (1, 0, 10)\n",
        "add_edge (2, 1, 20)\n",
        "add_edge (2, 3, 32)\n",
        "\n",
        "print_graph()"
      ]
    },
    {
      "cell_type": "markdown",
      "metadata": {
        "id": "kD-6afNTwFRj"
      },
      "source": [
        "3. You decided to go on a trip around the philippines. Being a computer scientist, you wanted to find the optimal route that would cost the least amount of money to travel all four cities. Find the route and print the total cost of the most optimal route. (`50 points`)"
      ]
    },
    {
      "cell_type": "markdown",
      "metadata": {
        "id": "cBHIHSIewFRj"
      },
      "source": [
        "<img src=\"https://github.com/robitussin/CCALCOMP_EXERCISES/blob/main/images/trip.png?raw=true\" width=\"500\" height=\"600\"/>"
      ]
    },
    {
      "cell_type": "code",
      "execution_count": 66,
      "metadata": {
        "id": "yNwmvIXnwFRj",
        "colab": {
          "base_uri": "https://localhost:8080/"
        },
        "outputId": "3c9ff82e-e03f-47d0-b8f6-2fbf3130bc2d"
      },
      "outputs": [
        {
          "output_type": "stream",
          "name": "stdout",
          "text": [
            "Shortest Route:\n",
            "Manila -> Tacloban -> Puerto Princesa -> Davao -> Manila\n",
            "Total Cost: 11500\n"
          ]
        }
      ],
      "source": [
        "from sys import maxsize\n",
        "from itertools import permutations\n",
        "\n",
        "cities = {0: 'Manila', 1: 'Tacloban', 2: 'Puerto Princesa', 3: 'Davao'}\n",
        "\n",
        "graph = {\n",
        "    'Manila': {'Tacloban': 1000, 'Davao': 5000, 'Puerto Princesa': 8000},\n",
        "    'Tacloban': {'Manila': 1000, 'Davao': 2000, 'Puerto Princesa': 1500},\n",
        "    'Puerto Princesa': {'Manila': 8000, 'Tacloban': 1500, 'Davao': 4000},\n",
        "    'Davao': {'Manila': 5000, 'Tacloban': 2000, 'Puerto Princesa': 4000}\n",
        "}\n",
        "\n",
        "V = len(cities)\n",
        "\n",
        "def least_cost(graph, s):\n",
        "    vertex = []\n",
        "    for i in range(V):\n",
        "        if i != s:\n",
        "            vertex.append(i)\n",
        "\n",
        "    min_path = maxsize\n",
        "    next_permutation = permutations(vertex)\n",
        "    min_route = None\n",
        "    for perm in next_permutation:\n",
        "        perm_list = list(perm)\n",
        "        perm_list.append(s)\n",
        "\n",
        "        current_pathweight = 0\n",
        "        k = s\n",
        "        route = [cities[k]]\n",
        "        for j in perm_list:\n",
        "            current_pathweight += graph[cities[k]][cities[j]]\n",
        "            k = j\n",
        "            route.append(cities[k])\n",
        "\n",
        "        if current_pathweight < min_path:\n",
        "            min_path = current_pathweight\n",
        "            min_route = route\n",
        "\n",
        "    return min_path, min_route\n",
        "\n",
        "shortest_distance, shortest_route = least_cost(graph, 0)\n",
        "print(\"Shortest Route:\")\n",
        "print(\" -> \".join(shortest_route))\n",
        "print(\"Total Cost:\", shortest_distance)\n"
      ]
    }
  ],
  "metadata": {
    "kernelspec": {
      "display_name": "base",
      "language": "python",
      "name": "python3"
    },
    "language_info": {
      "codemirror_mode": {
        "name": "ipython",
        "version": 3
      },
      "file_extension": ".py",
      "mimetype": "text/x-python",
      "name": "python",
      "nbconvert_exporter": "python",
      "pygments_lexer": "ipython3",
      "version": "3.9.6"
    },
    "colab": {
      "provenance": [],
      "include_colab_link": true
    }
  },
  "nbformat": 4,
  "nbformat_minor": 0
}